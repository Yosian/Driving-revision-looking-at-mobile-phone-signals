{
 "cells": [
  {
   "cell_type": "code",
   "execution_count": 6,
   "metadata": {},
   "outputs": [
    {
     "name": "stderr",
     "output_type": "stream",
     "text": [
      "/Users/empathybroker/anaconda3/lib/python3.6/site-packages/ipykernel_launcher.py:41: SettingWithCopyWarning: \n",
      "A value is trying to be set on a copy of a slice from a DataFrame.\n",
      "Try using .loc[row_indexer,col_indexer] = value instead\n",
      "\n",
      "See the caveats in the documentation: http://pandas.pydata.org/pandas-docs/stable/indexing.html#indexing-view-versus-copy\n",
      "/Users/empathybroker/anaconda3/lib/python3.6/site-packages/ipykernel_launcher.py:39: RuntimeWarning: invalid value encountered in double_scalars\n"
     ]
    },
    {
     "data": {
      "text/plain": [
       "<matplotlib.figure.Figure at 0x113d5d438>"
      ]
     },
     "metadata": {},
     "output_type": "display_data"
    }
   ],
   "source": [
    "#This produces all graphs and maps for analysis\n",
    "import numpy as np\n",
    "import pandas as pd\n",
    "import matplotlib.pyplot as plt\n",
    "from matplotlib import pylab, mlab, pyplot\n",
    "import gmplot\n",
    "\n",
    "for i in range(25):\n",
    "    #producing accelerometer graphs\n",
    "    data=pd.read_csv('/Users/empathybroker/Downloads/Data Science Challenge/all journeys/'+str(i+1)+'.csv')\n",
    "    data['date']=data['timestamp'].values.astype('datetime64[ms]')\n",
    "    plt.plot(data['date'],data['x'],'b')\n",
    "    plt.plot(data['date'],data['y'],'r')\n",
    "    plt.plot(data['date'],data['z'],'g')\n",
    "    #plt.show()\n",
    "    pylab.savefig('accelerator'+str(i+1)+'.png')\n",
    "    plt.gcf().clear()\n",
    "    #producing GPS maps\n",
    "    latlon=data[data['type']=='gps']\n",
    "    lat=latlon['lat'].values #np series of latitude to map\n",
    "    lon=latlon['lon'].values\n",
    "    sep=int(len(lat)/2)\n",
    "    lat1=lat[:sep]\n",
    "    lat2=lat[sep:]\n",
    "    lon1=lon[:sep]\n",
    "    lon2=lon[sep:]\n",
    "    gmap=gmplot.GoogleMapPlotter(latlon.iloc[0]['lat'],latlon.iloc[0]['lon'],13)\n",
    "    gmap.plot(lat1,lon1,'cornflowerblue',edge_width=3)\n",
    "    gmap.draw(str(i+1)+'map1.html')\n",
    "    gmap=gmplot.GoogleMapPlotter(latlon.iloc[sep]['lat'],latlon.iloc[sep]['lon'],13)\n",
    "    gmap.plot(lat2,lon2,'cornflowerblue',edge_width=3)\n",
    "    gmap.draw(str(i+1)+'map2.html')\n",
    "    #producing speed graphs\n",
    "    plt.plot(latlon['date'],latlon['speed'])\n",
    "    pylab.savefig('speed'+str(i+1)+'.png')\n",
    "    plt.gcf().clear()\n",
    "    \n",
    "    acc=[(latlon.iloc[i+1]['speed']-latlon.iloc[i]['speed'])/\n",
    "    ((latlon.iloc[i+1]['timestamp']-latlon.iloc[i]['timestamp'])/1000) for i in range(len(latlon)-1)]\n",
    "    acc=np.insert(acc,0,0)\n",
    "    latlon['acceleration']=acc\n",
    "    plt.plot(latlon['timestamp'],latlon['acceleration'])\n",
    "    pylab.savefig('acceleration'+str(i+1)+'.png')\n",
    "    plt.gcf().clear()"
   ]
  },
  {
   "cell_type": "code",
   "execution_count": null,
   "metadata": {},
   "outputs": [],
   "source": []
  }
 ],
 "metadata": {
  "kernelspec": {
   "display_name": "Python 3",
   "language": "python",
   "name": "python3"
  },
  "language_info": {
   "codemirror_mode": {
    "name": "ipython",
    "version": 3
   },
   "file_extension": ".py",
   "mimetype": "text/x-python",
   "name": "python",
   "nbconvert_exporter": "python",
   "pygments_lexer": "ipython3",
   "version": "3.6.3"
  }
 },
 "nbformat": 4,
 "nbformat_minor": 2
}
