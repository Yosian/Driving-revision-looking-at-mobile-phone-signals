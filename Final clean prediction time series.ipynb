{
 "cells": [
  {
   "cell_type": "code",
   "execution_count": 1,
   "metadata": {},
   "outputs": [],
   "source": [
    "#Final clean"
   ]
  },
  {
   "cell_type": "code",
   "execution_count": 2,
   "metadata": {},
   "outputs": [],
   "source": [
    "import numpy as np\n",
    "import pandas as pd\n",
    "data=pd.read_csv('/Users/empathybroker/Downloads/Data Science Challenge/all journeys/1.csv',header=0,sep=',')"
   ]
  },
  {
   "cell_type": "code",
   "execution_count": 3,
   "metadata": {},
   "outputs": [],
   "source": [
    "#divide data into chuncks of approx 1000ms each\n",
    "gps=data[data['type']=='gps']\n",
    "accel=data[data['type']=='accelerometer']"
   ]
  },
  {
   "cell_type": "code",
   "execution_count": 4,
   "metadata": {},
   "outputs": [],
   "source": [
    "#index=gps.index\n",
    "#speeds=gps['speed'].values\n",
    "xmax=[]\n",
    "xmin=[]\n",
    "ymax=[]\n",
    "ymin=[]\n",
    "zmax=[]\n",
    "zmin=[]\n",
    "for i in range(len(gps)-1):\n",
    "    a=gps.index[i]+1\n",
    "    b=gps.index[i+1]\n",
    "    x=data['x'].iloc[a:b].values  \n",
    "    try:\n",
    "        xmax.append(max(x))\n",
    "    except:\n",
    "        xmax.append(xmax[i-1])\n",
    "    try:\n",
    "        xmin.append(min(x))\n",
    "    except:\n",
    "        xmin.append(xmin[i-1])\n",
    "    y=data['y'].iloc[a:b].values  \n",
    "    try:\n",
    "        ymax.append(max(y))\n",
    "    except:\n",
    "        ymax.append(ymax[i-1])\n",
    "    try:\n",
    "        ymin.append(min(y))\n",
    "    except:\n",
    "        ymin.append(ymin[i-1])\n",
    "    z=data['z'].iloc[a:b].values  \n",
    "    try:\n",
    "        zmax.append(max(z))\n",
    "    except:\n",
    "        zmax.append(zmax[i-1])\n",
    "    try:\n",
    "        zmin.append(min(z))\n",
    "    except:\n",
    "        zmin.append(zmin[i-1])\n",
    "#this will not work if first max value is empty"
   ]
  },
  {
   "cell_type": "code",
   "execution_count": 5,
   "metadata": {},
   "outputs": [],
   "source": [
    "#convert everything to array to find minmax\n",
    "xmax=np.asarray(xmax)\n",
    "ymax=np.asarray(ymax)\n",
    "zmax=np.asarray(zmax)\n",
    "xmin=np.asarray(xmin)\n",
    "ymin=np.asarray(ymin)\n",
    "zmin=np.asarray(zmin)\n",
    "xdiff=xmax-xmin\n",
    "ydiff=ymax-ymin\n",
    "zdiff=zmax-zmin"
   ]
  },
  {
   "cell_type": "code",
   "execution_count": 6,
   "metadata": {},
   "outputs": [
    {
     "name": "stderr",
     "output_type": "stream",
     "text": [
      "/Users/empathybroker/anaconda3/lib/python3.6/site-packages/ipykernel_launcher.py:2: SettingWithCopyWarning: \n",
      "A value is trying to be set on a copy of a slice from a DataFrame.\n",
      "Try using .loc[row_indexer,col_indexer] = value instead\n",
      "\n",
      "See the caveats in the documentation: http://pandas.pydata.org/pandas-docs/stable/indexing.html#indexing-view-versus-copy\n",
      "  \n",
      "/Users/empathybroker/anaconda3/lib/python3.6/site-packages/ipykernel_launcher.py:3: SettingWithCopyWarning: \n",
      "A value is trying to be set on a copy of a slice from a DataFrame.\n",
      "Try using .loc[row_indexer,col_indexer] = value instead\n",
      "\n",
      "See the caveats in the documentation: http://pandas.pydata.org/pandas-docs/stable/indexing.html#indexing-view-versus-copy\n",
      "  This is separate from the ipykernel package so we can avoid doing imports until\n"
     ]
    }
   ],
   "source": [
    "#get new variables to check time lapse is about correct, and find difference in speed as new var\n",
    "gps['timelapse']=gps['timestamp'].shift(-1)-gps['timestamp']\n",
    "gps['speeddiff']=gps['speed'].shift(-1)-gps['speed']"
   ]
  },
  {
   "cell_type": "code",
   "execution_count": 7,
   "metadata": {},
   "outputs": [],
   "source": [
    "gps=gps[:-1] #as I dont want the last line due to increases and shift"
   ]
  },
  {
   "cell_type": "code",
   "execution_count": 18,
   "metadata": {},
   "outputs": [],
   "source": [
    "#New columns are added to be part of training process\n",
    "gps['xmax']=xmax\n",
    "gps['xmin']=xmin\n",
    "gps['xdiff']=xdiff\n",
    "gps['ymax']=ymax\n",
    "gps['ymin']=ymin\n",
    "gps['ydiff']=ydiff\n",
    "gps['zmax']=zmax\n",
    "gps['zmin']=zmin\n",
    "gps['zdiff']=zdiff\n",
    "#cleaning\n",
    "del xmax,xmin,xdiff,ymax,ymin,ydiff,zmax,zmin,zdiff"
   ]
  },
  {
   "cell_type": "code",
   "execution_count": 9,
   "metadata": {},
   "outputs": [],
   "source": [
    "#dropping unwanted columns\n",
    "gps.drop(['type','lat','lon','height','accuracy','bearing','x','y','z'],axis=1,inplace=True)"
   ]
  },
  {
   "cell_type": "code",
   "execution_count": 11,
   "metadata": {},
   "outputs": [],
   "source": [
    "#Creating a date from the timestamp\n",
    "gps['timestamp']=gps['timestamp'].values.astype('datetime64[ms]')"
   ]
  },
  {
   "cell_type": "code",
   "execution_count": 14,
   "metadata": {},
   "outputs": [
    {
     "data": {
      "image/png": "[encoded data removed]",
      "text/plain": [
       "<matplotlib.figure.Figure at 0x11762b240>"
      ]
     },
     "metadata": {},
     "output_type": "display_data"
    }
   ],
   "source": [
    "#where do we split the set for labelling?\n",
    "import matplotlib.pyplot as plt\n",
    "plt.plot(gps.index,gps['xdiff'],'b')\n",
    "plt.plot(gps.index,gps['ydiff'],'r')\n",
    "plt.plot(gps.index,gps['zdiff'],'g')\n",
    "plt.show()\n",
    "#We already analysed this set and decided that at iloc[1974] the mobile went from driving to on_foot"
   ]
  },
  {
   "cell_type": "code",
   "execution_count": 17,
   "metadata": {},
   "outputs": [],
   "source": [
    "#so we label the set accordingly\n",
    "gpsroad=['fast_road']*len(gps.loc[:1974])\n",
    "gpsfoot=['on_foot']*len(gps.loc[1975:])\n",
    "gps['action']=gpsroad+gpsfoot\n",
    "#cleaning \n",
    "del gpsroad,gpsfoot"
   ]
  },
  {
   "cell_type": "code",
   "execution_count": 21,
   "metadata": {},
   "outputs": [],
   "source": [
    "#prediction time, we test a variety of models to check accuracy\n",
    "import pandas\n",
    "from pandas.plotting import scatter_matrix\n",
    "import matplotlib.pyplot as plt\n",
    "from sklearn import model_selection\n",
    "from sklearn.metrics import classification_report\n",
    "from sklearn.metrics import confusion_matrix\n",
    "from sklearn.metrics import accuracy_score\n",
    "from sklearn.linear_model import LogisticRegression\n",
    "from sklearn.tree import DecisionTreeClassifier\n",
    "from sklearn.neighbors import KNeighborsClassifier\n",
    "from sklearn.discriminant_analysis import LinearDiscriminantAnalysis\n",
    "from sklearn.naive_bayes import GaussianNB\n",
    "from sklearn.svm import SVC"
   ]
  },
  {
   "cell_type": "code",
   "execution_count": 23,
   "metadata": {},
   "outputs": [],
   "source": [
    "#we don't really need ['timelapse]\n",
    "gps.drop('timelapse',axis=1,inplace=True)"
   ]
  },
  {
   "cell_type": "code",
   "execution_count": 32,
   "metadata": {},
   "outputs": [],
   "source": [
    "#We train the set, but keep the timestamp for reference\n",
    "#now we split into training and test sets\n",
    "array = gps.values\n",
    "X = array[:,1:12]\n",
    "Y = array[:,12]\n",
    "validation_size = 0.20\n",
    "seed = 7\n",
    "X_train, X_validation, Y_train, Y_validation = model_selection.train_test_split(X, Y, test_size=validation_size, random_state=seed)"
   ]
  },
  {
   "cell_type": "code",
   "execution_count": 33,
   "metadata": {},
   "outputs": [],
   "source": [
    "#so, split in 10 parts and train in 9, test in 1\n",
    "seed = 7\n",
    "scoring = 'accuracy'"
   ]
  },
  {
   "cell_type": "code",
   "execution_count": 34,
   "metadata": {},
   "outputs": [
    {
     "name": "stdout",
     "output_type": "stream",
     "text": [
      "LR: 0.993750 (0.012500)\n",
      "LDA: 0.990625 (0.014321)\n",
      "KNN: 0.993750 (0.012500)\n",
      "CART: 0.993750 (0.012500)\n",
      "NB: 0.993750 (0.012500)\n",
      "SVM: 0.993750 (0.012500)\n"
     ]
    },
    {
     "name": "stderr",
     "output_type": "stream",
     "text": [
      "/Users/empathybroker/anaconda3/lib/python3.6/site-packages/sklearn/discriminant_analysis.py:388: UserWarning: Variables are collinear.\n",
      "  warnings.warn(\"Variables are collinear.\")\n",
      "/Users/empathybroker/anaconda3/lib/python3.6/site-packages/sklearn/discriminant_analysis.py:388: UserWarning: Variables are collinear.\n",
      "  warnings.warn(\"Variables are collinear.\")\n",
      "/Users/empathybroker/anaconda3/lib/python3.6/site-packages/sklearn/discriminant_analysis.py:388: UserWarning: Variables are collinear.\n",
      "  warnings.warn(\"Variables are collinear.\")\n",
      "/Users/empathybroker/anaconda3/lib/python3.6/site-packages/sklearn/discriminant_analysis.py:388: UserWarning: Variables are collinear.\n",
      "  warnings.warn(\"Variables are collinear.\")\n",
      "/Users/empathybroker/anaconda3/lib/python3.6/site-packages/sklearn/discriminant_analysis.py:388: UserWarning: Variables are collinear.\n",
      "  warnings.warn(\"Variables are collinear.\")\n",
      "/Users/empathybroker/anaconda3/lib/python3.6/site-packages/sklearn/discriminant_analysis.py:388: UserWarning: Variables are collinear.\n",
      "  warnings.warn(\"Variables are collinear.\")\n",
      "/Users/empathybroker/anaconda3/lib/python3.6/site-packages/sklearn/discriminant_analysis.py:388: UserWarning: Variables are collinear.\n",
      "  warnings.warn(\"Variables are collinear.\")\n",
      "/Users/empathybroker/anaconda3/lib/python3.6/site-packages/sklearn/discriminant_analysis.py:388: UserWarning: Variables are collinear.\n",
      "  warnings.warn(\"Variables are collinear.\")\n",
      "/Users/empathybroker/anaconda3/lib/python3.6/site-packages/sklearn/discriminant_analysis.py:388: UserWarning: Variables are collinear.\n",
      "  warnings.warn(\"Variables are collinear.\")\n",
      "/Users/empathybroker/anaconda3/lib/python3.6/site-packages/sklearn/discriminant_analysis.py:388: UserWarning: Variables are collinear.\n",
      "  warnings.warn(\"Variables are collinear.\")\n"
     ]
    }
   ],
   "source": [
    "#time to train and check algorithm suitability\n",
    "models = []\n",
    "models.append(('LR', LogisticRegression()))\n",
    "models.append(('LDA', LinearDiscriminantAnalysis()))\n",
    "models.append(('KNN', KNeighborsClassifier()))\n",
    "models.append(('CART', DecisionTreeClassifier()))\n",
    "models.append(('NB', GaussianNB()))\n",
    "models.append(('SVM', SVC()))\n",
    "# evaluate each model in turn\n",
    "results = []\n",
    "names = []\n",
    "for name, model in models:\n",
    "\tkfold = model_selection.KFold(n_splits=10, random_state=seed)\n",
    "\tcv_results = model_selection.cross_val_score(model, X_train, Y_train, cv=kfold, scoring=scoring)\n",
    "\tresults.append(cv_results)\n",
    "\tnames.append(name)\n",
    "\tmsg = \"%s: %f (%f)\" % (name, cv_results.mean(), cv_results.std())\n",
    "\tprint(msg)"
   ]
  },
  {
   "cell_type": "code",
   "execution_count": 35,
   "metadata": {},
   "outputs": [
    {
     "name": "stdout",
     "output_type": "stream",
     "text": [
      "1.0\n",
      "[[35  0]\n",
      " [ 0 45]]\n",
      "             precision    recall  f1-score   support\n",
      "\n",
      "  fast_road       1.00      1.00      1.00        35\n",
      "    on_foot       1.00      1.00      1.00        45\n",
      "\n",
      "avg / total       1.00      1.00      1.00        80\n",
      "\n"
     ]
    }
   ],
   "source": [
    "#KNeighboursClassifier is best. Let us check on the test set, which has been scrambled\n",
    "# Make predictions on validation dataset\n",
    "knn = KNeighborsClassifier()\n",
    "knn.fit(X_train, Y_train)\n",
    "predictions = knn.predict(X_validation)\n",
    "print(accuracy_score(Y_validation, predictions))\n",
    "print(confusion_matrix(Y_validation, predictions))\n",
    "print(classification_report(Y_validation, predictions))"
   ]
  },
  {
   "cell_type": "code",
   "execution_count": 36,
   "metadata": {},
   "outputs": [],
   "source": [
    "#Results are quite good, however differences in this training set were quite distinct."
   ]
  },
  {
   "cell_type": "code",
   "execution_count": 37,
   "metadata": {},
   "outputs": [],
   "source": [
    "#Let us try against a different dataset 2\n",
    "data=pd.read_csv('/Users/empathybroker/Downloads/Data Science Challenge/all journeys/2.csv',header=0,sep=',')"
   ]
  },
  {
   "cell_type": "code",
   "execution_count": 38,
   "metadata": {},
   "outputs": [
    {
     "name": "stderr",
     "output_type": "stream",
     "text": [
      "/Users/empathybroker/anaconda3/lib/python3.6/site-packages/ipykernel_launcher.py:50: SettingWithCopyWarning: \n",
      "A value is trying to be set on a copy of a slice from a DataFrame.\n",
      "Try using .loc[row_indexer,col_indexer] = value instead\n",
      "\n",
      "See the caveats in the documentation: http://pandas.pydata.org/pandas-docs/stable/indexing.html#indexing-view-versus-copy\n",
      "/Users/empathybroker/anaconda3/lib/python3.6/site-packages/ipykernel_launcher.py:51: SettingWithCopyWarning: \n",
      "A value is trying to be set on a copy of a slice from a DataFrame.\n",
      "Try using .loc[row_indexer,col_indexer] = value instead\n",
      "\n",
      "See the caveats in the documentation: http://pandas.pydata.org/pandas-docs/stable/indexing.html#indexing-view-versus-copy\n"
     ]
    }
   ],
   "source": [
    "gps=data[data['type']=='gps']\n",
    "accel=data[data['type']=='accelerometer']\n",
    "xmax=[]\n",
    "xmin=[]\n",
    "ymax=[]\n",
    "ymin=[]\n",
    "zmax=[]\n",
    "zmin=[]\n",
    "for i in range(len(gps)-1):\n",
    "    a=gps.index[i]+1\n",
    "    b=gps.index[i+1]\n",
    "    x=data['x'].iloc[a:b].values  \n",
    "    try:\n",
    "        xmax.append(max(x))\n",
    "    except:\n",
    "        xmax.append(xmax[i-1])\n",
    "    try:\n",
    "        xmin.append(min(x))\n",
    "    except:\n",
    "        xmin.append(xmin[i-1])\n",
    "    y=data['y'].iloc[a:b].values  \n",
    "    try:\n",
    "        ymax.append(max(y))\n",
    "    except:\n",
    "        ymax.append(ymax[i-1])\n",
    "    try:\n",
    "        ymin.append(min(y))\n",
    "    except:\n",
    "        ymin.append(ymin[i-1])\n",
    "    z=data['z'].iloc[a:b].values  \n",
    "    try:\n",
    "        zmax.append(max(z))\n",
    "    except:\n",
    "        zmax.append(zmax[i-1])\n",
    "    try:\n",
    "        zmin.append(min(z))\n",
    "    except:\n",
    "        zmin.append(zmin[i-1])\n",
    "#this will not work if first max value is empty\n",
    "xmax=np.asarray(xmax)\n",
    "ymax=np.asarray(ymax)\n",
    "zmax=np.asarray(zmax)\n",
    "xmin=np.asarray(xmin)\n",
    "ymin=np.asarray(ymin)\n",
    "zmin=np.asarray(zmin)\n",
    "xdiff=xmax-xmin\n",
    "ydiff=ymax-ymin\n",
    "zdiff=zmax-zmin\n",
    "#get new variables to check time lapse is about correct, and find difference in speed as new var\n",
    "gps['timelapse']=gps['timestamp'].shift(-1)-gps['timestamp']\n",
    "gps['speeddiff']=gps['speed'].shift(-1)-gps['speed']\n",
    "gps=gps[:-1] #as I dont want the last line due to increases and shift\n",
    "#New columns are added to be part of training process\n",
    "gps['xmax']=xmax\n",
    "gps['xmin']=xmin\n",
    "gps['xdiff']=xdiff\n",
    "gps['ymax']=ymax\n",
    "gps['ymin']=ymin\n",
    "gps['ydiff']=ydiff\n",
    "gps['zmax']=zmax\n",
    "gps['zmin']=zmin\n",
    "gps['zdiff']=zdiff\n",
    "#cleaning\n",
    "del xmax,xmin,xdiff,ymax,ymin,ydiff,zmax,zmin,zdiff"
   ]
  },
  {
   "cell_type": "code",
   "execution_count": 39,
   "metadata": {},
   "outputs": [],
   "source": [
    "#dropping unwanted columns\n",
    "gps.drop(['type','lat','lon','height','accuracy','bearing','x','y','z'],axis=1,inplace=True)\n",
    "#Creating a date from the timestamp\n",
    "gps['timestamp']=gps['timestamp'].values.astype('datetime64[ms]')"
   ]
  },
  {
   "cell_type": "code",
   "execution_count": 40,
   "metadata": {},
   "outputs": [
    {
     "data": {
      "image/png": "[encoded data removed]",
      "text/plain": [
       "<matplotlib.figure.Figure at 0x1a1f18c6d8>"
      ]
     },
     "metadata": {},
     "output_type": "display_data"
    }
   ],
   "source": [
    "plt.plot(gps.index,gps['xdiff'],'b')\n",
    "plt.plot(gps.index,gps['ydiff'],'r')\n",
    "plt.plot(gps.index,gps['zdiff'],'g')\n",
    "plt.show()"
   ]
  },
  {
   "cell_type": "code",
   "execution_count": 50,
   "metadata": {},
   "outputs": [],
   "source": [
    "#After observing dataframe, he parks at .loc[4004]\n",
    "#so we label the set accordingly\n",
    "gpsroad=['fast_road']*len(gps.loc[:4004])\n",
    "gpsfoot=['on_foot']*len(gps.loc[4005:])\n",
    "gps['action']=gpsroad+gpsfoot\n",
    "#cleaning \n",
    "del gpsroad,gpsfoot\n",
    "#we don't really need ['timelapse]\n",
    "gps.drop('timelapse',axis=1,inplace=True)"
   ]
  },
  {
   "cell_type": "code",
   "execution_count": 51,
   "metadata": {},
   "outputs": [],
   "source": [
    "#Using the same system but not training the new set\n",
    "#now we split into training and test sets\n",
    "array = gps.values\n",
    "X = array[:,1:12]\n",
    "Y = array[:,12]\n",
    "validation_size = 0.20\n",
    "seed = 7\n",
    "X_train, X_validation, Y_train, Y_validation = model_selection.train_test_split(X, Y, test_size=validation_size, random_state=seed)"
   ]
  },
  {
   "cell_type": "code",
   "execution_count": 52,
   "metadata": {},
   "outputs": [
    {
     "name": "stdout",
     "output_type": "stream",
     "text": [
      "0.968253968254\n",
      "[[74  0]\n",
      " [ 4 48]]\n",
      "             precision    recall  f1-score   support\n",
      "\n",
      "  fast_road       0.95      1.00      0.97        74\n",
      "    on_foot       1.00      0.92      0.96        52\n",
      "\n",
      "avg / total       0.97      0.97      0.97       126\n",
      "\n"
     ]
    }
   ],
   "source": [
    "#and now we use the old prediction on the new test\n",
    "# Make predictions on validation dataset\n",
    "knn = KNeighborsClassifier()\n",
    "knn.fit(X_train, Y_train)\n",
    "predictions = knn.predict(X_validation)\n",
    "print(accuracy_score(Y_validation, predictions))\n",
    "print(confusion_matrix(Y_validation, predictions))\n",
    "print(classification_report(Y_validation, predictions))"
   ]
  },
  {
   "cell_type": "code",
   "execution_count": 53,
   "metadata": {},
   "outputs": [],
   "source": [
    "#with a prediction of 97% which is not bad. Next we will include more sets and accidents"
   ]
  },
  {
   "cell_type": "code",
   "execution_count": null,
   "metadata": {},
   "outputs": [],
   "source": []
  }
 ],
 "metadata": {
  "kernelspec": {
   "display_name": "Python 3",
   "language": "python",
   "name": "python3"
  },
  "language_info": {
   "codemirror_mode": {
    "name": "ipython",
    "version": 3
   },
   "file_extension": ".py",
   "mimetype": "text/x-python",
   "name": "python",
   "nbconvert_exporter": "python",
   "pygments_lexer": "ipython3",
   "version": "3.6.3"
  }
 },
 "nbformat": 4,
 "nbformat_minor": 2
}
